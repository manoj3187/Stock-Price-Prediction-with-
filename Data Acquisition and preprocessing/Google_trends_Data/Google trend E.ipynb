{
 "cells": [
  {
   "cell_type": "code",
   "execution_count": null,
   "metadata": {},
   "outputs": [],
   "source": [
    "! pip install pytrends"
   ]
  },
  {
   "cell_type": "code",
   "execution_count": null,
   "metadata": {},
   "outputs": [],
   "source": [
    "! pip install --upgrade --user git+https://github.com/GeneralMills/pytrends"
   ]
  },
  {
   "cell_type": "code",
   "execution_count": 2,
   "metadata": {},
   "outputs": [],
   "source": [
    "from pytrends.request import TrendReq\n",
    "import pandas as pd\n",
    "from sklearn import preprocessing\n",
    "import matplotlib.pyplot as plt\n",
    "import csv\n",
    "import calendar"
   ]
  },
  {
   "cell_type": "code",
   "execution_count": 3,
   "metadata": {},
   "outputs": [
    {
     "name": "stdout",
     "output_type": "stream",
     "text": [
      "['2011-1-1 2011-1-31', '2011-2-1 2011-2-28', '2011-3-1 2011-3-31', '2011-4-1 2011-4-30', '2011-5-1 2011-5-31', '2011-6-1 2011-6-30', '2011-7-1 2011-7-31', '2011-8-1 2011-8-31', '2011-9-1 2011-9-30', '2011-10-1 2011-10-31', '2011-11-1 2011-11-30', '2011-12-1 2011-12-31', '2012-1-1 2012-1-31', '2012-2-1 2012-2-29', '2012-3-1 2012-3-31', '2012-4-1 2012-4-30', '2012-5-1 2012-5-31', '2012-6-1 2012-6-30', '2012-7-1 2012-7-31', '2012-8-1 2012-8-31', '2012-9-1 2012-9-30', '2012-10-1 2012-10-31', '2012-11-1 2012-11-30', '2012-12-1 2012-12-31', '2013-1-1 2013-1-31', '2013-2-1 2013-2-28', '2013-3-1 2013-3-31', '2013-4-1 2013-4-30', '2013-5-1 2013-5-31', '2013-6-1 2013-6-30', '2013-7-1 2013-7-31', '2013-8-1 2013-8-31', '2013-9-1 2013-9-30', '2013-10-1 2013-10-31', '2013-11-1 2013-11-30', '2013-12-1 2013-12-31', '2014-1-1 2014-1-31', '2014-2-1 2014-2-28', '2014-3-1 2014-3-31', '2014-4-1 2014-4-30', '2014-5-1 2014-5-31', '2014-6-1 2014-6-30', '2014-7-1 2014-7-31', '2014-8-1 2014-8-31', '2014-9-1 2014-9-30', '2014-10-1 2014-10-31', '2014-11-1 2014-11-30', '2014-12-1 2014-12-31', '2015-1-1 2015-1-31', '2015-2-1 2015-2-28', '2015-3-1 2015-3-31', '2015-4-1 2015-4-30', '2015-5-1 2015-5-31', '2015-6-1 2015-6-30', '2015-7-1 2015-7-31', '2015-8-1 2015-8-31', '2015-9-1 2015-9-30', '2015-10-1 2015-10-31', '2015-11-1 2015-11-30', '2015-12-1 2015-12-31', '2016-1-1 2016-1-31', '2016-2-1 2016-2-29', '2016-3-1 2016-3-31', '2016-4-1 2016-4-30', '2016-5-1 2016-5-31', '2016-6-1 2016-6-30', '2016-7-1 2016-7-31', '2016-8-1 2016-8-31', '2016-9-1 2016-9-30', '2016-10-1 2016-10-31', '2016-11-1 2016-11-30', '2016-12-1 2016-12-31', '2017-1-1 2017-1-31', '2017-2-1 2017-2-28', '2017-3-1 2017-3-31', '2017-4-1 2017-4-30', '2017-5-1 2017-5-31', '2017-6-1 2017-6-30', '2017-7-1 2017-7-31', '2017-8-1 2017-8-31', '2017-9-1 2017-9-30', '2017-10-1 2017-10-31', '2017-11-1 2017-11-30', '2017-12-1 2017-12-31', '2018-1-1 2018-1-31', '2018-2-1 2018-2-28', '2018-3-1 2018-3-31', '2018-4-1 2018-4-30', '2018-5-1 2018-5-31', '2018-6-1 2018-6-30', '2018-7-1 2018-7-31', '2018-8-1 2018-8-31', '2018-9-1 2018-9-30', '2018-10-1 2018-10-31', '2018-11-1 2018-11-30', '2018-12-1 2018-12-31', '2019-1-1 2019-1-31', '2019-2-1 2019-2-28', '2019-3-1 2019-3-31', '2019-4-1 2019-4-30', '2019-5-1 2019-5-31', '2019-6-1 2019-6-30', '2019-7-1 2019-7-31', '2019-8-1 2019-8-31', '2019-9-1 2019-9-30', '2019-10-1 2019-10-31', '2019-11-1 2019-11-30', '2019-12-1 2019-12-31', '2020-1-1 2020-1-31', '2020-2-1 2020-2-29', '2020-3-1 2020-3-31', '2020-4-1 2020-4-30', '2020-5-1 2020-5-31', '2020-6-1 2020-6-30', '2020-7-1 2020-7-31', '2020-8-1 2020-8-31', '2020-9-1 2020-9-30', '2020-10-1 2020-10-31', '2020-11-1 2020-11-30', '2020-12-1 2020-12-31']\n"
     ]
    }
   ],
   "source": [
    "time_ranges = []\n",
    "for y in range(2011,2021):\n",
    "    for m in range(1,13):\n",
    "        monthrange = calendar.monthrange(y, m)\n",
    "        start_day = \"%d-%d-%d\" %(y,m,1)\n",
    "        end_day = \"%d-%d-%d\" %(y,m,monthrange[1])\n",
    "        s_e_day = start_day +\" \" + end_day\n",
    "        time_ranges.append(s_e_day)\n",
    "\n",
    "\n",
    "print(time_ranges)"
   ]
  },
  {
   "cell_type": "code",
   "execution_count": 4,
   "metadata": {},
   "outputs": [],
   "source": [
    "time_ranges = time_ranges[0:-8]"
   ]
  },
  {
   "cell_type": "markdown",
   "metadata": {},
   "source": [
    "# The First Run"
   ]
  },
  {
   "cell_type": "code",
   "execution_count": 6,
   "metadata": {},
   "outputs": [],
   "source": [
    "keywords = [['Microsoft','Microsoft'],\n",
    "['Apple','Apple'],\n",
    "['Google','Google']]\n",
    "\n",
    "# monthly daya for past 100 years\n",
    "for key,df_name in keywords:\n",
    "    pytrends = TrendReq(hl='en-US', tz=360)\n",
    "    pytrends.build_payload([key], timeframe='2011-1-1 2020-4-30', geo= 'US', gprop ='')\n",
    "    data_key_all_days= pytrends.interest_over_time()\n",
    "\n",
    "\n",
    "    globals()[df_name+'_all'] = pd.DataFrame()   \n",
    "\n",
    "    for day in time_ranges:   \n",
    "        pytrends = TrendReq(hl='en-US', tz=360)\n",
    "        pytrends.build_payload([key], timeframe=day, geo= 'US', gprop ='')\n",
    "        df_day = pytrends.interest_over_time()\n",
    "\n",
    "        #Calculation final value = daily value*(monthly value/100)\n",
    "        Monthly_rate_percent = data_key_all_days.loc[day[0:9],key]/100\n",
    "        df_day = df_day*Monthly_rate_percent\n",
    "        globals()[df_name+'_all'] = globals()[df_name+'_all'].append(df_day)\n",
    "    del globals()[df_name+'_all']['isPartial']\n",
    "    \n",
    "    globals()[df_name+'_all'].to_csv(df_name+\".csv\", encoding = \"utf-8\")"
   ]
  },
  {
   "cell_type": "markdown",
   "metadata": {},
   "source": [
    "# The Second Run"
   ]
  },
  {
   "cell_type": "code",
   "execution_count": 7,
   "metadata": {},
   "outputs": [],
   "source": [
    "keywords = [['Facebook','Facebook'],\n",
    "['Johnson & Johnson','Johnson_and_Johnson'],\n",
    "['Walmart','Walmart']]\n",
    "\n",
    "# monthly daya for past 100 years\n",
    "for key,df_name in keywords:\n",
    "    pytrends = TrendReq(hl='en-US', tz=360)\n",
    "    pytrends.build_payload([key], timeframe='2011-1-1 2020-4-30', geo= 'US', gprop ='')\n",
    "    data_key_all_days= pytrends.interest_over_time()\n",
    "\n",
    "\n",
    "    globals()[df_name+'_all'] = pd.DataFrame()   \n",
    "\n",
    "    for day in time_ranges:   \n",
    "        pytrends = TrendReq(hl='en-US', tz=360)\n",
    "        pytrends.build_payload([key], timeframe=day, geo= 'US', gprop ='')\n",
    "        df_day = pytrends.interest_over_time()\n",
    "\n",
    "        #Calculation final value = daily value*(monthly value/100)\n",
    "        Monthly_rate_percent = data_key_all_days.loc[day[0:9],key]/100\n",
    "        df_day = df_day*Monthly_rate_percent\n",
    "        globals()[df_name+'_all'] = globals()[df_name+'_all'].append(df_day)\n",
    "    del globals()[df_name+'_all']['isPartial']\n",
    "    \n",
    "    globals()[df_name+'_all'].to_csv(df_name+\".csv\", encoding = \"utf-8\")"
   ]
  },
  {
   "cell_type": "code",
   "execution_count": null,
   "metadata": {},
   "outputs": [],
   "source": []
  },
  {
   "cell_type": "markdown",
   "metadata": {},
   "source": [
    "# The Third Run"
   ]
  },
  {
   "cell_type": "code",
   "execution_count": null,
   "metadata": {},
   "outputs": [],
   "source": [
    "keywords = [\n",
    "# ['Intel','Intel'],\n",
    "# ['The Home Depot','The_Home_Depot'],\n",
    "# ['Merck','Merck']]\n",
    "\n",
    "# monthly daya for past 100 years\n",
    "for key,df_name in keywords:\n",
    "    pytrends = TrendReq(hl='en-US', tz=360)\n",
    "    pytrends.build_payload([key], timeframe='2011-1-1 2020-4-30', geo= 'US', gprop ='')\n",
    "    data_key_all_days= pytrends.interest_over_time()\n",
    "\n",
    "\n",
    "    globals()[df_name+'_all'] = pd.DataFrame()   \n",
    "\n",
    "    for day in time_ranges:   \n",
    "        pytrends = TrendReq(hl='en-US', tz=360)\n",
    "        pytrends.build_payload([key], timeframe=day, geo= 'US', gprop ='')\n",
    "        df_day = pytrends.interest_over_time()\n",
    "\n",
    "        #Calculation final value = daily value*(monthly value/100)\n",
    "        Monthly_rate_percent = data_key_all_days.loc[day[0:9],key]/100\n",
    "        df_day = df_day*Monthly_rate_percent\n",
    "        globals()[df_name+'_all'] = globals()[df_name+'_all'].append(df_day)\n",
    "    del globals()[df_name+'_all']['isPartial']\n",
    "    \n",
    "    globals()[df_name+'_all'].to_csv(df_name+\".csv\", encoding = \"utf-8\")"
   ]
  },
  {
   "cell_type": "code",
   "execution_count": null,
   "metadata": {},
   "outputs": [],
   "source": []
  },
  {
   "cell_type": "markdown",
   "metadata": {},
   "source": [
    "# The First Run"
   ]
  },
  {
   "cell_type": "code",
   "execution_count": null,
   "metadata": {},
   "outputs": [],
   "source": [
    "# keywords = [['Pfizer','Pfizer'], \n",
    "# ['CocaCola','CocaCola'],\n",
    "# ['Bank of America','Bank_of_America']]\n",
    "\n",
    "# monthly daya for past 100 years\n",
    "for key,df_name in keywords:\n",
    "    pytrends = TrendReq(hl='en-US', tz=360)\n",
    "    pytrends.build_payload([key], timeframe='2011-1-1 2020-4-30', geo= 'US', gprop ='')\n",
    "    data_key_all_days= pytrends.interest_over_time()\n",
    "\n",
    "\n",
    "    globals()[df_name+'_all'] = pd.DataFrame()   \n",
    "\n",
    "    for day in time_ranges:   \n",
    "        pytrends = TrendReq(hl='en-US', tz=360)\n",
    "        pytrends.build_payload([key], timeframe=day, geo= 'US', gprop ='')\n",
    "        df_day = pytrends.interest_over_time()\n",
    "\n",
    "        #Calculation final value = daily value*(monthly value/100)\n",
    "        Monthly_rate_percent = data_key_all_days.loc[day[0:9],key]/100\n",
    "        df_day = df_day*Monthly_rate_percent\n",
    "        globals()[df_name+'_all'] = globals()[df_name+'_all'].append(df_day)\n",
    "    del globals()[df_name+'_all']['isPartial']\n",
    "    \n",
    "    globals()[df_name+'_all'].to_csv(df_name+\".csv\", encoding = \"utf-8\")"
   ]
  },
  {
   "cell_type": "markdown",
   "metadata": {},
   "source": [
    "# The Second Run"
   ]
  },
  {
   "cell_type": "code",
   "execution_count": 15,
   "metadata": {},
   "outputs": [],
   "source": [
    "keywords = [['Netflix','Netflix'],\n",
    "['Pepsi','Pepsi'],\n",
    "['Disney','The_Walt_Disney']]\n",
    "\n",
    "# monthly daya for past 100 years\n",
    "for key,df_name in keywords:\n",
    "    pytrends = TrendReq(hl='en-US', tz=360)\n",
    "    pytrends.build_payload([key], timeframe='2011-1-1 2020-4-30', geo= 'US', gprop ='')\n",
    "    data_key_all_days= pytrends.interest_over_time()\n",
    "\n",
    "\n",
    "    globals()[df_name+'_all'] = pd.DataFrame()   \n",
    "\n",
    "    for day in time_ranges:   \n",
    "        pytrends = TrendReq(hl='en-US', tz=360)\n",
    "        pytrends.build_payload([key], timeframe=day, geo= 'US', gprop ='')\n",
    "        df_day = pytrends.interest_over_time()\n",
    "\n",
    "        #Calculation final value = daily value*(monthly value/100)\n",
    "        Monthly_rate_percent = data_key_all_days.loc[day[0:9],key]/100\n",
    "        df_day = df_day*Monthly_rate_percent\n",
    "        globals()[df_name+'_all'] = globals()[df_name+'_all'].append(df_day)\n",
    "    del globals()[df_name+'_all']['isPartial']\n",
    "    \n",
    "    globals()[df_name+'_all'].to_csv(df_name+\".csv\", encoding = \"utf-8\")"
   ]
  },
  {
   "cell_type": "code",
   "execution_count": null,
   "metadata": {},
   "outputs": [],
   "source": []
  },
  {
   "cell_type": "markdown",
   "metadata": {},
   "source": [
    "# The Third Run"
   ]
  },
  {
   "cell_type": "code",
   "execution_count": 16,
   "metadata": {},
   "outputs": [],
   "source": [
    "keywords = [['Cisco','Cisco_Systems'],\n",
    "['NVIDIA','NVIDIA'],\n",
    "['Exxon','Exxon_Mobil']]\n",
    "\n",
    "# monthly daya for past 100 years\n",
    "for key,df_name in keywords:\n",
    "    pytrends = TrendReq(hl='en-US', tz=360)\n",
    "    pytrends.build_payload([key], timeframe='2011-1-1 2020-4-30', geo= 'US', gprop ='')\n",
    "    data_key_all_days= pytrends.interest_over_time()\n",
    "\n",
    "\n",
    "    globals()[df_name+'_all'] = pd.DataFrame()   \n",
    "\n",
    "    for day in time_ranges:   \n",
    "        pytrends = TrendReq(hl='en-US', tz=360)\n",
    "        pytrends.build_payload([key], timeframe=day, geo= 'US', gprop ='')\n",
    "        df_day = pytrends.interest_over_time()\n",
    "\n",
    "        #Calculation final value = daily value*(monthly value/100)\n",
    "        Monthly_rate_percent = data_key_all_days.loc[day[0:9],key]/100\n",
    "        df_day = df_day*Monthly_rate_percent\n",
    "        globals()[df_name+'_all'] = globals()[df_name+'_all'].append(df_day)\n",
    "    del globals()[df_name+'_all']['isPartial']\n",
    "    \n",
    "    globals()[df_name+'_all'].to_csv(df_name+\".csv\", encoding = \"utf-8\")"
   ]
  },
  {
   "cell_type": "code",
   "execution_count": null,
   "metadata": {},
   "outputs": [],
   "source": []
  },
  {
   "cell_type": "markdown",
   "metadata": {},
   "source": [
    "# The First Run"
   ]
  },
  {
   "cell_type": "code",
   "execution_count": 19,
   "metadata": {},
   "outputs": [],
   "source": [
    "keywords = [['Abbott Laboratories','Abbott_Laboratories'],\n",
    "['Chevron','Chevron'],\n",
    "['Eli Lilly','Eli_Lilly']]\n",
    "\n",
    "# monthly daya for past 100 years\n",
    "for key,df_name in keywords:\n",
    "    pytrends = TrendReq(hl='en-US', tz=360)\n",
    "    pytrends.build_payload([key], timeframe='2011-1-1 2020-4-30', geo= 'US', gprop ='')\n",
    "    data_key_all_days= pytrends.interest_over_time()\n",
    "\n",
    "\n",
    "    globals()[df_name+'_all'] = pd.DataFrame()   \n",
    "\n",
    "    for day in time_ranges:   \n",
    "        pytrends = TrendReq(hl='en-US', tz=360)\n",
    "        pytrends.build_payload([key], timeframe=day, geo= 'US', gprop ='')\n",
    "        df_day = pytrends.interest_over_time()\n",
    "\n",
    "        #Calculation final value = daily value*(monthly value/100)\n",
    "        Monthly_rate_percent = data_key_all_days.loc[day[0:9],key]/100\n",
    "        df_day = df_day*Monthly_rate_percent\n",
    "        globals()[df_name+'_all'] = globals()[df_name+'_all'].append(df_day)\n",
    "    del globals()[df_name+'_all']['isPartial']\n",
    "    \n",
    "    globals()[df_name+'_all'].to_csv(df_name+\".csv\", encoding = \"utf-8\")"
   ]
  },
  {
   "cell_type": "markdown",
   "metadata": {},
   "source": [
    "# The Second Run"
   ]
  },
  {
   "cell_type": "code",
   "execution_count": 18,
   "metadata": {},
   "outputs": [],
   "source": [
    "keywords = [['Pandemic','Pandemic'],\n",
    "['presidential election','presidential_election'], \n",
    "['Lockdown','Lockdown']]\n",
    "\n",
    "# monthly daya for past 100 years\n",
    "for key,df_name in keywords:\n",
    "    pytrends = TrendReq(hl='en-US', tz=360)\n",
    "    pytrends.build_payload([key], timeframe='2011-1-1 2020-4-30', geo= 'US', gprop ='')\n",
    "    data_key_all_days= pytrends.interest_over_time()\n",
    "\n",
    "\n",
    "    globals()[df_name+'_all'] = pd.DataFrame()   \n",
    "\n",
    "    for day in time_ranges:   \n",
    "        pytrends = TrendReq(hl='en-US', tz=360)\n",
    "        pytrends.build_payload([key], timeframe=day, geo= 'US', gprop ='')\n",
    "        df_day = pytrends.interest_over_time()\n",
    "\n",
    "        #Calculation final value = daily value*(monthly value/100)\n",
    "        Monthly_rate_percent = data_key_all_days.loc[day[0:9],key]/100\n",
    "        df_day = df_day*Monthly_rate_percent\n",
    "        globals()[df_name+'_all'] = globals()[df_name+'_all'].append(df_day)\n",
    "    del globals()[df_name+'_all']['isPartial']\n",
    "    \n",
    "    globals()[df_name+'_all'].to_csv(df_name+\".csv\", encoding = \"utf-8\")"
   ]
  },
  {
   "cell_type": "code",
   "execution_count": null,
   "metadata": {},
   "outputs": [],
   "source": []
  },
  {
   "cell_type": "markdown",
   "metadata": {},
   "source": [
    "# The Third Run"
   ]
  },
  {
   "cell_type": "code",
   "execution_count": 8,
   "metadata": {},
   "outputs": [],
   "source": [
    "keywords = [['Covid-19','Covid_19']]\n",
    "\n",
    "# monthly daya for past 100 years\n",
    "for key,df_name in keywords:\n",
    "    pytrends = TrendReq(hl='en-US', tz=360)\n",
    "    pytrends.build_payload([key], timeframe='2011-1-1 2020-4-30', geo= 'US', gprop ='')\n",
    "    data_key_all_days= pytrends.interest_over_time()\n",
    "\n",
    "\n",
    "    globals()[df_name+'_all'] = pd.DataFrame()   \n",
    "\n",
    "    for day in time_ranges:   \n",
    "        pytrends = TrendReq(hl='en-US', tz=360)\n",
    "        pytrends.build_payload([key], timeframe=day, geo= 'US', gprop ='')\n",
    "        df_day = pytrends.interest_over_time()\n",
    "\n",
    "        #Calculation final value = daily value*(monthly value/100)\n",
    "        Monthly_rate_percent = data_key_all_days.loc[day[0:9],key]/100\n",
    "        df_day = df_day*Monthly_rate_percent\n",
    "        globals()[df_name+'_all'] = globals()[df_name+'_all'].append(df_day)\n",
    "    del globals()[df_name+'_all']['isPartial']\n",
    "    \n",
    "    globals()[df_name+'_all'].to_csv(df_name+\".csv\", encoding = \"utf-8\")"
   ]
  },
  {
   "cell_type": "code",
   "execution_count": null,
   "metadata": {},
   "outputs": [],
   "source": []
  },
  {
   "cell_type": "code",
   "execution_count": 14,
   "metadata": {},
   "outputs": [],
   "source": [
    "keywords = [['Bank of America','Bank_of_America']]\n",
    "\n",
    "# monthly daya for past 100 years\n",
    "for key,df_name in keywords:\n",
    "    pytrends = TrendReq(hl='en-US', tz=360)\n",
    "    pytrends.build_payload([key], timeframe='2011-1-1 2020-4-30', geo= 'US', gprop ='')\n",
    "    data_key_all_days= pytrends.interest_over_time()\n",
    "\n",
    "\n",
    "    globals()[df_name+'_all'] = pd.DataFrame()   \n",
    "\n",
    "    for day in time_ranges:   \n",
    "        pytrends = TrendReq(hl='en-US', tz=360)\n",
    "        pytrends.build_payload([key], timeframe=day, geo= 'US', gprop ='')\n",
    "        df_day = pytrends.interest_over_time()\n",
    "\n",
    "        #Calculation final value = daily value*(monthly value/100)\n",
    "        Monthly_rate_percent = data_key_all_days.loc[day[0:9],key]/100\n",
    "        df_day = df_day*Monthly_rate_percent\n",
    "        globals()[df_name+'_all'] = globals()[df_name+'_all'].append(df_day)\n",
    "    del globals()[df_name+'_all']['isPartial']\n",
    "    \n",
    "    globals()[df_name+'_all'].to_csv(df_name+\".csv\", encoding = \"utf-8\")"
   ]
  },
  {
   "cell_type": "code",
   "execution_count": null,
   "metadata": {},
   "outputs": [],
   "source": []
  },
  {
   "cell_type": "code",
   "execution_count": null,
   "metadata": {},
   "outputs": [],
   "source": [
    "# ['Face masks','Face_masks'],\n",
    "# ['Coronavirus','Coronavirus'], \n",
    "# ['Quarantine','Quarantine'],           \n",
    "# ['EDD','EDD'],                     \n",
    "# ['sba loans','sba_loans']\n",
    "['unemployment check','unemployment_check']"
   ]
  },
  {
   "cell_type": "code",
   "execution_count": null,
   "metadata": {},
   "outputs": [],
   "source": []
  },
  {
   "cell_type": "code",
   "execution_count": 8,
   "metadata": {},
   "outputs": [
    {
     "ename": "ValueError",
     "evalue": "too many values to unpack (expected 2)",
     "output_type": "error",
     "traceback": [
      "\u001b[0;31m---------------------------------------------------------------------------\u001b[0m",
      "\u001b[0;31mValueError\u001b[0m                                Traceback (most recent call last)",
      "\u001b[0;32m<ipython-input-8-d94d36597fbe>\u001b[0m in \u001b[0;36m<module>\u001b[0;34m\u001b[0m\n\u001b[1;32m      2\u001b[0m \u001b[0;34m\u001b[0m\u001b[0m\n\u001b[1;32m      3\u001b[0m \u001b[0;31m# monthly daya for past 100 years\u001b[0m\u001b[0;34m\u001b[0m\u001b[0;34m\u001b[0m\u001b[0;34m\u001b[0m\u001b[0m\n\u001b[0;32m----> 4\u001b[0;31m \u001b[0;32mfor\u001b[0m \u001b[0mkey\u001b[0m\u001b[0;34m,\u001b[0m\u001b[0mdf_name\u001b[0m \u001b[0;32min\u001b[0m \u001b[0mkeywords\u001b[0m\u001b[0;34m:\u001b[0m\u001b[0;34m\u001b[0m\u001b[0;34m\u001b[0m\u001b[0m\n\u001b[0m\u001b[1;32m      5\u001b[0m     \u001b[0mpytrends\u001b[0m \u001b[0;34m=\u001b[0m \u001b[0mTrendReq\u001b[0m\u001b[0;34m(\u001b[0m\u001b[0mhl\u001b[0m\u001b[0;34m=\u001b[0m\u001b[0;34m'en-US'\u001b[0m\u001b[0;34m,\u001b[0m \u001b[0mtz\u001b[0m\u001b[0;34m=\u001b[0m\u001b[0;36m360\u001b[0m\u001b[0;34m)\u001b[0m\u001b[0;34m\u001b[0m\u001b[0;34m\u001b[0m\u001b[0m\n\u001b[1;32m      6\u001b[0m     \u001b[0mpytrends\u001b[0m\u001b[0;34m.\u001b[0m\u001b[0mbuild_payload\u001b[0m\u001b[0;34m(\u001b[0m\u001b[0;34m[\u001b[0m\u001b[0mkey\u001b[0m\u001b[0;34m]\u001b[0m\u001b[0;34m,\u001b[0m \u001b[0mtimeframe\u001b[0m\u001b[0;34m=\u001b[0m\u001b[0;34m'2011-1-1 2020-4-30'\u001b[0m\u001b[0;34m,\u001b[0m \u001b[0mgeo\u001b[0m\u001b[0;34m=\u001b[0m \u001b[0;34m'US'\u001b[0m\u001b[0;34m,\u001b[0m \u001b[0mgprop\u001b[0m \u001b[0;34m=\u001b[0m\u001b[0;34m''\u001b[0m\u001b[0;34m)\u001b[0m\u001b[0;34m\u001b[0m\u001b[0;34m\u001b[0m\u001b[0m\n",
      "\u001b[0;31mValueError\u001b[0m: too many values to unpack (expected 2)"
     ]
    }
   ],
   "source": [
    "keywords = [['unemployment check','unemployment_check']]\n",
    "\n",
    "# monthly daya for past 100 years\n",
    "for key,df_name in keywords:\n",
    "    pytrends = TrendReq(hl='en-US', tz=360)\n",
    "    pytrends.build_payload([key], timeframe='2011-1-1 2020-4-30', geo= 'US', gprop ='')\n",
    "    data_key_all_days= pytrends.interest_over_time()\n",
    "\n",
    "\n",
    "    globals()[df_name+'_all'] = pd.DataFrame()   \n",
    "\n",
    "    for day in time_ranges:   \n",
    "        pytrends = TrendReq(hl='en-US', tz=360)\n",
    "        pytrends.build_payload([key], timeframe=day, geo= 'US', gprop ='')\n",
    "        df_day = pytrends.interest_over_time()\n",
    "\n",
    "        #Calculation final value = daily value*(monthly value/100)\n",
    "        Monthly_rate_percent = data_key_all_days.loc[day[0:9],key]/100\n",
    "        df_day = df_day*Monthly_rate_percent\n",
    "        globals()[df_name+'_all'] = globals()[df_name+'_all'].append(df_day)\n",
    "    del globals()[df_name+'_all']['isPartial']\n",
    "    \n",
    "    globals()[df_name+'_all'].to_csv(df_name+\".csv\", encoding = \"utf-8\")"
   ]
  },
  {
   "cell_type": "code",
   "execution_count": null,
   "metadata": {},
   "outputs": [],
   "source": []
  },
  {
   "cell_type": "code",
   "execution_count": 10,
   "metadata": {},
   "outputs": [],
   "source": [
    "keywords = [\n",
    "['flu','Flu']]\n",
    "\n",
    "# monthly daya for past 100 years\n",
    "for key,df_name in keywords:\n",
    "    pytrends = TrendReq(hl='en-US', tz=360)\n",
    "    pytrends.build_payload([key], timeframe='2011-1-1 2020-4-30', geo= 'US', gprop ='')\n",
    "    data_key_all_days= pytrends.interest_over_time()\n",
    "\n",
    "\n",
    "    globals()[df_name+'_all'] = pd.DataFrame()   \n",
    "\n",
    "    for day in time_ranges:   \n",
    "        pytrends = TrendReq(hl='en-US', tz=360)\n",
    "        pytrends.build_payload([key], timeframe=day, geo= 'US', gprop ='')\n",
    "        df_day = pytrends.interest_over_time()\n",
    "\n",
    "        #Calculation final value = daily value*(monthly value/100)\n",
    "        Monthly_rate_percent = data_key_all_days.loc[day[0:9],key]/100\n",
    "        df_day = df_day*Monthly_rate_percent\n",
    "        globals()[df_name+'_all'] = globals()[df_name+'_all'].append(df_day)\n",
    "    del globals()[df_name+'_all']['isPartial']\n",
    "    \n",
    "    globals()[df_name+'_all'].to_csv(df_name+\".csv\", encoding = \"utf-8\")"
   ]
  },
  {
   "cell_type": "code",
   "execution_count": 11,
   "metadata": {},
   "outputs": [],
   "source": [
    "keywords = [\n",
    "['swine flu','Swine_flu']]\n",
    "\n",
    "# monthly daya for past 100 years\n",
    "for key,df_name in keywords:\n",
    "    pytrends = TrendReq(hl='en-US', tz=360)\n",
    "    pytrends.build_payload([key], timeframe='2011-1-1 2020-4-30', geo= 'US', gprop ='')\n",
    "    data_key_all_days= pytrends.interest_over_time()\n",
    "\n",
    "\n",
    "    globals()[df_name+'_all'] = pd.DataFrame()   \n",
    "\n",
    "    for day in time_ranges:   \n",
    "        pytrends = TrendReq(hl='en-US', tz=360)\n",
    "        pytrends.build_payload([key], timeframe=day, geo= 'US', gprop ='')\n",
    "        df_day = pytrends.interest_over_time()\n",
    "\n",
    "        #Calculation final value = daily value*(monthly value/100)\n",
    "        Monthly_rate_percent = data_key_all_days.loc[day[0:9],key]/100\n",
    "        df_day = df_day*Monthly_rate_percent\n",
    "        globals()[df_name+'_all'] = globals()[df_name+'_all'].append(df_day)\n",
    "    del globals()[df_name+'_all']['isPartial']\n",
    "    \n",
    "    globals()[df_name+'_all'].to_csv(df_name+\".csv\", encoding = \"utf-8\")"
   ]
  },
  {
   "cell_type": "code",
   "execution_count": null,
   "metadata": {},
   "outputs": [],
   "source": []
  }
 ],
 "metadata": {
  "kernelspec": {
   "display_name": "Python 3",
   "language": "python",
   "name": "python3"
  },
  "language_info": {
   "codemirror_mode": {
    "name": "ipython",
    "version": 3
   },
   "file_extension": ".py",
   "mimetype": "text/x-python",
   "name": "python",
   "nbconvert_exporter": "python",
   "pygments_lexer": "ipython3",
   "version": "3.7.6"
  }
 },
 "nbformat": 4,
 "nbformat_minor": 4
}
