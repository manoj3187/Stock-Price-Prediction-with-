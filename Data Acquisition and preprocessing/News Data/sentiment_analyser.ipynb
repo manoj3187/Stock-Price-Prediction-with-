{
 "cells": [
  {
   "cell_type": "code",
   "execution_count": 1,
   "metadata": {},
   "outputs": [
    {
     "name": "stdout",
     "output_type": "stream",
     "text": [
      "Requirement already satisfied: psaw in /opt/conda/lib/python3.7/site-packages (0.0.12)\n",
      "Requirement already satisfied: Click in /opt/conda/lib/python3.7/site-packages (from psaw) (7.1.1)\n",
      "Requirement already satisfied: requests in /opt/conda/lib/python3.7/site-packages (from psaw) (2.23.0)\n",
      "Requirement already satisfied: certifi>=2017.4.17 in /opt/conda/lib/python3.7/site-packages (from requests->psaw) (2020.4.5.1)\n",
      "Requirement already satisfied: idna<3,>=2.5 in /opt/conda/lib/python3.7/site-packages (from requests->psaw) (2.9)\n",
      "Requirement already satisfied: chardet<4,>=3.0.2 in /opt/conda/lib/python3.7/site-packages (from requests->psaw) (3.0.4)\n",
      "Requirement already satisfied: urllib3!=1.25.0,!=1.25.1,<1.26,>=1.21.1 in /opt/conda/lib/python3.7/site-packages (from requests->psaw) (1.25.9)\n",
      "Requirement already satisfied: praw in /opt/conda/lib/python3.7/site-packages (7.0.0)\n",
      "Requirement already satisfied: prawcore<2.0,>=1.3.0 in /opt/conda/lib/python3.7/site-packages (from praw) (1.3.0)\n",
      "Requirement already satisfied: websocket-client>=0.54.0 in /opt/conda/lib/python3.7/site-packages (from praw) (0.57.0)\n",
      "Requirement already satisfied: update-checker>=0.16 in /opt/conda/lib/python3.7/site-packages (from praw) (0.17)\n",
      "Requirement already satisfied: requests<3.0,>=2.6.0 in /opt/conda/lib/python3.7/site-packages (from prawcore<2.0,>=1.3.0->praw) (2.23.0)\n",
      "Requirement already satisfied: six in /opt/conda/lib/python3.7/site-packages (from websocket-client>=0.54.0->praw) (1.14.0)\n",
      "Requirement already satisfied: chardet<4,>=3.0.2 in /opt/conda/lib/python3.7/site-packages (from requests<3.0,>=2.6.0->prawcore<2.0,>=1.3.0->praw) (3.0.4)\n",
      "Requirement already satisfied: idna<3,>=2.5 in /opt/conda/lib/python3.7/site-packages (from requests<3.0,>=2.6.0->prawcore<2.0,>=1.3.0->praw) (2.9)\n",
      "Requirement already satisfied: urllib3!=1.25.0,!=1.25.1,<1.26,>=1.21.1 in /opt/conda/lib/python3.7/site-packages (from requests<3.0,>=2.6.0->prawcore<2.0,>=1.3.0->praw) (1.25.9)\n",
      "Requirement already satisfied: certifi>=2017.4.17 in /opt/conda/lib/python3.7/site-packages (from requests<3.0,>=2.6.0->prawcore<2.0,>=1.3.0->praw) (2020.4.5.1)\n"
     ]
    }
   ],
   "source": [
    "!pip install psaw\n",
    "!pip install praw"
   ]
  },
  {
   "cell_type": "code",
   "execution_count": 1,
   "metadata": {},
   "outputs": [],
   "source": [
    "import requests\n",
    "import datetime\n",
    "import time\n",
    "import csv\n",
    "import json\n",
    "\n",
    "from random import randint\n",
    "import praw"
   ]
  },
  {
   "cell_type": "code",
   "execution_count": 2,
   "metadata": {},
   "outputs": [],
   "source": [
    "from psaw import PushshiftAPI\n",
    "\n",
    "r = praw.Reddit(client_id='J3XLJbhE9LB9mQ', client_secret='7NrPOUcTqRtzB9iBY1HsczZr8Ok', user_agent='NewsScraping')\n",
    "\n",
    "api = PushshiftAPI(r)"
   ]
  },
  {
   "cell_type": "code",
   "execution_count": 5,
   "metadata": {},
   "outputs": [],
   "source": [
    "companies=['Netflix','Boeing','American airlines','Activision blizzard','Clorax', 'virus','disease','pandemic','quarantine','lockdown','economy','stock market','covid-19','coronavirus']\n",
    " \n",
    "chengyi=[\n",
    "  'Johnson & Johnson',\n",
    "  'Walmart',\n",
    "  'Procter & Gamble',\n",
    "  'JPMorgan Chase ']\n",
    "\n",
    "richard=[\n",
    "  'UnitedHealth Group',\n",
    "  'Verizon',\n",
    "  'AT&T',\n",
    "  'Home Depot','Pfizer']\n",
    "\n",
    "\n",
    "manoj=['Coca-Cola',\n",
    "  'Bank of America',\n",
    "  'Netflix',\n",
    "  'Pepsi',\n",
    "  'Disney']\n",
    "  \n",
    "a=['amazon']       \n",
    "other=['Cisco Systems',\n",
    "  'NVIDIA',\n",
    "  'Exxon Mobil',\n",
    "  'Abbott Laboratories',\n",
    "  'Oracle','Merck & Co']"
   ]
  },
  {
   "cell_type": "code",
   "execution_count": 6,
   "metadata": {},
   "outputs": [],
   "source": [
    "import pandas as pd\n",
    "\n",
    "#generating the dates for the time frame\n",
    "date1 = '2019-06-01'\n",
    "date2 = '2020-05-30'\n",
    "mydates = pd.date_range(date1, date2)\n",
    "# companies=['Coca-Cola','Bank of America','Netflix','Pepsi','Disney']"
   ]
  },
  {
   "cell_type": "code",
   "execution_count": 8,
   "metadata": {},
   "outputs": [],
   "source": [
    "\n",
    "\n",
    "for n in companies[:2]:    \n",
    "\n",
    "    date=[]\n",
    "    news=[]\n",
    "\n",
    "    for i in range(len(mydates)):\n",
    "        if i!=len(mydates)-1:\n",
    "            start=mydates[i].timestamp()\n",
    "            end=mydates[i+1].timestamp()\n",
    "            #extracting the top 25 headlines for each company in the list\n",
    "            c=list(api.search_submissions(after=int(start),before=int(end),\n",
    "                                                subreddit='news',sort_type='score',\n",
    "                                                filter=['url','author', 'title', 'subreddit'],\n",
    "                                                limit=25))\n",
    "        \n",
    "        else:\n",
    "            start=mydates[i].timestamp()\n",
    "            c=list(api.search_submissions(after=int(start),\n",
    "                                                subreddit='news',sort_type='score',\n",
    "                                                filter=['url','author', 'title', 'subreddit'],\n",
    "                                                limit=25))\n",
    "        \n",
    "        headlines=''\n",
    "        # merging all the headlines for a given day to create one single string\n",
    "        for j in c:\n",
    "    \n",
    "            headlines=headlines+j.title\n",
    "        star=mydates[i]\n",
    "        date.append(star)\n",
    "        news.append(headlines)\n",
    "    #creating csv file for each company\n",
    "    filename='world-DL.csv'\n",
    "    df=pd.DataFrame({'date':date,'news':news})\n",
    "    df.to_csv(filename,header= True, encoding='utf-8')"
   ]
  },
  {
   "cell_type": "code",
   "execution_count": null,
   "metadata": {},
   "outputs": [],
   "source": []
  }
 ],
 "metadata": {
  "environment": {
   "name": "common-cpu.m47",
   "type": "gcloud",
   "uri": "gcr.io/deeplearning-platform-release/base-cpu:m47"
  },
  "kernelspec": {
   "display_name": "Python 3",
   "language": "python",
   "name": "python3"
  },
  "language_info": {
   "codemirror_mode": {
    "name": "ipython",
    "version": 3
   },
   "file_extension": ".py",
   "mimetype": "text/x-python",
   "name": "python",
   "nbconvert_exporter": "python",
   "pygments_lexer": "ipython3",
   "version": "3.7.6"
  }
 },
 "nbformat": 4,
 "nbformat_minor": 4
}
