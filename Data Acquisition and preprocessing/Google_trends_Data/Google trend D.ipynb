{
 "cells": [
  {
   "cell_type": "code",
   "execution_count": null,
   "metadata": {},
   "outputs": [],
   "source": [
    "! pip install pytrends"
   ]
  },
  {
   "cell_type": "code",
   "execution_count": null,
   "metadata": {},
   "outputs": [],
   "source": [
    "! pip install --upgrade --user git+https://github.com/GeneralMills/pytrends"
   ]
  },
  {
   "cell_type": "code",
   "execution_count": null,
   "metadata": {},
   "outputs": [],
   "source": [
    "from pytrends.request import TrendReq\n",
    "import pandas as pd\n",
    "from sklearn import preprocessing\n",
    "import matplotlib.pyplot as plt\n",
    "import csv\n",
    "import calendar"
   ]
  },
  {
   "cell_type": "code",
   "execution_count": null,
   "metadata": {},
   "outputs": [],
   "source": [
    "time_ranges = []\n",
    "for y in range(2011,2021):\n",
    "    for m in range(1,13):\n",
    "        monthrange = calendar.monthrange(y, m)\n",
    "        start_day = \"%d-%d-%d\" %(y,m,1)\n",
    "        end_day = \"%d-%d-%d\" %(y,m,monthrange[1])\n",
    "        s_e_day = start_day +\" \" + end_day\n",
    "        time_ranges.append(s_e_day)\n",
    "\n",
    "\n",
    "print(time_ranges)"
   ]
  },
  {
   "cell_type": "code",
   "execution_count": null,
   "metadata": {},
   "outputs": [],
   "source": [
    "time_ranges = time_ranges[0:-8]"
   ]
  },
  {
   "cell_type": "markdown",
   "metadata": {},
   "source": [
    "# The First Run"
   ]
  },
  {
   "cell_type": "code",
   "execution_count": null,
   "metadata": {},
   "outputs": [],
   "source": [
    "keywords = [['Microsoft','Microsoft'],\n",
    "['Apple','Apple'],\n",
    "['Amazon','Amazon']]\n",
    "\n",
    "# monthly daya for past 100 years\n",
    "for key,df_name in keywords:\n",
    "    pytrends = TrendReq(hl='en-US', tz=360)\n",
    "    pytrends.build_payload([key], timeframe='2011-1-1 2020-4-30', geo= 'US', gprop ='')\n",
    "    data_key_all_days= pytrends.interest_over_time()\n",
    "\n",
    "\n",
    "    globals()[df_name+'_all'] = pd.DataFrame()   \n",
    "\n",
    "    for day in time_ranges:   \n",
    "        pytrends = TrendReq(hl='en-US', tz=360)\n",
    "        pytrends.build_payload([key], timeframe=day, geo= 'US', gprop ='')\n",
    "        df_day = pytrends.interest_over_time()\n",
    "\n",
    "        #Calculation final value = daily value*(monthly value/100)\n",
    "        Monthly_rate_percent = data_key_all_days.loc[day[0:9],key]/100\n",
    "        df_day = df_day*Monthly_rate_percent\n",
    "        globals()[df_name+'_all'] = globals()[df_name+'_all'].append(df_day)\n",
    "    del globals()[df_name+'_all']['isPartial']\n",
    "    \n",
    "    globals()[df_name+'_all'].to_csv(df_name+\".csv\", encoding = \"utf-8\")"
   ]
  },
  {
   "cell_type": "markdown",
   "metadata": {},
   "source": [
    "# The Second Run"
   ]
  },
  {
   "cell_type": "code",
   "execution_count": null,
   "metadata": {},
   "outputs": [],
   "source": [
    "keywords = [['Google','Google'],\n",
    "['Facebook','Facebook'],\n",
    "['Johnson & Johnson','Johnson_and_Johnson']]\n",
    "\n",
    "# monthly daya for past 100 years\n",
    "for key,df_name in keywords:\n",
    "    pytrends = TrendReq(hl='en-US', tz=360)\n",
    "    pytrends.build_payload([key], timeframe='2011-1-1 2020-4-30', geo= 'US', gprop ='')\n",
    "    data_key_all_days= pytrends.interest_over_time()\n",
    "\n",
    "\n",
    "    globals()[df_name+'_all'] = pd.DataFrame()   \n",
    "\n",
    "    for day in time_ranges:   \n",
    "        pytrends = TrendReq(hl='en-US', tz=360)\n",
    "        pytrends.build_payload([key], timeframe=day, geo= 'US', gprop ='')\n",
    "        df_day = pytrends.interest_over_time()\n",
    "\n",
    "        #Calculation final value = daily value*(monthly value/100)\n",
    "        Monthly_rate_percent = data_key_all_days.loc[day[0:9],key]/100\n",
    "        df_day = df_day*Monthly_rate_percent\n",
    "        globals()[df_name+'_all'] = globals()[df_name+'_all'].append(df_day)\n",
    "    del globals()[df_name+'_all']['isPartial']\n",
    "    \n",
    "    globals()[df_name+'_all'].to_csv(df_name+\".csv\", encoding = \"utf-8\")"
   ]
  },
  {
   "cell_type": "code",
   "execution_count": null,
   "metadata": {},
   "outputs": [],
   "source": []
  },
  {
   "cell_type": "markdown",
   "metadata": {},
   "source": [
    "# The Third Run"
   ]
  },
  {
   "cell_type": "code",
   "execution_count": null,
   "metadata": {},
   "outputs": [],
   "source": [
    "keywords = [['Walmart','Walmart'], \n",
    "['Procter & Gamble','Procter_and_Gamble'],\n",
    "['JPMorgan Chase','JPMorgan_Chase']]\n",
    "\n",
    "# monthly daya for past 100 years\n",
    "for key,df_name in keywords:\n",
    "    pytrends = TrendReq(hl='en-US', tz=360)\n",
    "    pytrends.build_payload([key], timeframe='2011-1-1 2020-4-30', geo= 'US', gprop ='')\n",
    "    data_key_all_days= pytrends.interest_over_time()\n",
    "\n",
    "\n",
    "    globals()[df_name+'_all'] = pd.DataFrame()   \n",
    "\n",
    "    for day in time_ranges:   \n",
    "        pytrends = TrendReq(hl='en-US', tz=360)\n",
    "        pytrends.build_payload([key], timeframe=day, geo= 'US', gprop ='')\n",
    "        df_day = pytrends.interest_over_time()\n",
    "\n",
    "        #Calculation final value = daily value*(monthly value/100)\n",
    "        Monthly_rate_percent = data_key_all_days.loc[day[0:9],key]/100\n",
    "        df_day = df_day*Monthly_rate_percent\n",
    "        globals()[df_name+'_all'] = globals()[df_name+'_all'].append(df_day)\n",
    "    del globals()[df_name+'_all']['isPartial']\n",
    "    \n",
    "    globals()[df_name+'_all'].to_csv(df_name+\".csv\", encoding = \"utf-8\")"
   ]
  },
  {
   "cell_type": "code",
   "execution_count": null,
   "metadata": {},
   "outputs": [],
   "source": []
  },
  {
   "cell_type": "markdown",
   "metadata": {},
   "source": [
    "# The First Run"
   ]
  },
  {
   "cell_type": "code",
   "execution_count": null,
   "metadata": {},
   "outputs": [],
   "source": [
    "keywords = [['UnitedHealth Group','UnitedHealth_Group'],\n",
    "['Intel','Intel'],\n",
    "['Verizon','Verizon']]\n",
    "\n",
    "# monthly daya for past 100 years\n",
    "for key,df_name in keywords:\n",
    "    pytrends = TrendReq(hl='en-US', tz=360)\n",
    "    pytrends.build_payload([key], timeframe='2011-1-1 2020-4-30', geo= 'US', gprop ='')\n",
    "    data_key_all_days= pytrends.interest_over_time()\n",
    "\n",
    "\n",
    "    globals()[df_name+'_all'] = pd.DataFrame()   \n",
    "\n",
    "    for day in time_ranges:   \n",
    "        pytrends = TrendReq(hl='en-US', tz=360)\n",
    "        pytrends.build_payload([key], timeframe=day, geo= 'US', gprop ='')\n",
    "        df_day = pytrends.interest_over_time()\n",
    "\n",
    "        #Calculation final value = daily value*(monthly value/100)\n",
    "        Monthly_rate_percent = data_key_all_days.loc[day[0:9],key]/100\n",
    "        df_day = df_day*Monthly_rate_percent\n",
    "        globals()[df_name+'_all'] = globals()[df_name+'_all'].append(df_day)\n",
    "    del globals()[df_name+'_all']['isPartial']\n",
    "    \n",
    "    globals()[df_name+'_all'].to_csv(df_name+\".csv\", encoding = \"utf-8\")"
   ]
  },
  {
   "cell_type": "markdown",
   "metadata": {},
   "source": [
    "# The Second Run"
   ]
  },
  {
   "cell_type": "code",
   "execution_count": null,
   "metadata": {},
   "outputs": [],
   "source": [
    "keywords = [['AT&T','AT_T'],\n",
    "['The Home Depot','The_Home_Depot'],\n",
    "['Merck','Merck']]\n",
    "\n",
    "# monthly daya for past 100 years\n",
    "for key,df_name in keywords:\n",
    "    pytrends = TrendReq(hl='en-US', tz=360)\n",
    "    pytrends.build_payload([key], timeframe='2011-1-1 2020-4-30', geo= 'US', gprop ='')\n",
    "    data_key_all_days= pytrends.interest_over_time()\n",
    "\n",
    "\n",
    "    globals()[df_name+'_all'] = pd.DataFrame()   \n",
    "\n",
    "    for day in time_ranges:   \n",
    "        pytrends = TrendReq(hl='en-US', tz=360)\n",
    "        pytrends.build_payload([key], timeframe=day, geo= 'US', gprop ='')\n",
    "        df_day = pytrends.interest_over_time()\n",
    "\n",
    "        #Calculation final value = daily value*(monthly value/100)\n",
    "        Monthly_rate_percent = data_key_all_days.loc[day[0:9],key]/100\n",
    "        df_day = df_day*Monthly_rate_percent\n",
    "        globals()[df_name+'_all'] = globals()[df_name+'_all'].append(df_day)\n",
    "    del globals()[df_name+'_all']['isPartial']\n",
    "    \n",
    "    globals()[df_name+'_all'].to_csv(df_name+\".csv\", encoding = \"utf-8\")"
   ]
  },
  {
   "cell_type": "code",
   "execution_count": null,
   "metadata": {},
   "outputs": [],
   "source": []
  },
  {
   "cell_type": "markdown",
   "metadata": {},
   "source": [
    "# The Third Run"
   ]
  },
  {
   "cell_type": "code",
   "execution_count": null,
   "metadata": {},
   "outputs": [],
   "source": [
    "keywords = [['Pfizer','Pfizer'], \n",
    "['CocaCola','CocaCola'],\n",
    "['Bank of America','Bank_of_America']]\n",
    "\n",
    "# monthly daya for past 100 years\n",
    "for key,df_name in keywords:\n",
    "    pytrends = TrendReq(hl='en-US', tz=360)\n",
    "    pytrends.build_payload([key], timeframe='2011-1-1 2020-4-30', geo= 'US', gprop ='')\n",
    "    data_key_all_days= pytrends.interest_over_time()\n",
    "\n",
    "\n",
    "    globals()[df_name+'_all'] = pd.DataFrame()   \n",
    "\n",
    "    for day in time_ranges:   \n",
    "        pytrends = TrendReq(hl='en-US', tz=360)\n",
    "        pytrends.build_payload([key], timeframe=day, geo= 'US', gprop ='')\n",
    "        df_day = pytrends.interest_over_time()\n",
    "\n",
    "        #Calculation final value = daily value*(monthly value/100)\n",
    "        Monthly_rate_percent = data_key_all_days.loc[day[0:9],key]/100\n",
    "        df_day = df_day*Monthly_rate_percent\n",
    "        globals()[df_name+'_all'] = globals()[df_name+'_all'].append(df_day)\n",
    "    del globals()[df_name+'_all']['isPartial']\n",
    "    \n",
    "    globals()[df_name+'_all'].to_csv(df_name+\".csv\", encoding = \"utf-8\")"
   ]
  },
  {
   "cell_type": "code",
   "execution_count": null,
   "metadata": {},
   "outputs": [],
   "source": []
  },
  {
   "cell_type": "markdown",
   "metadata": {},
   "source": [
    "# The First Run"
   ]
  },
  {
   "cell_type": "code",
   "execution_count": null,
   "metadata": {},
   "outputs": [],
   "source": [
    "keywords = [['Netflix','Netflix'],\n",
    "['Pepsi','Pepsi'],\n",
    "['Disney','The_Walt_Disney']]\n",
    "\n",
    "# monthly daya for past 100 years\n",
    "for key,df_name in keywords:\n",
    "    pytrends = TrendReq(hl='en-US', tz=360)\n",
    "    pytrends.build_payload([key], timeframe='2011-1-1 2020-4-30', geo= 'US', gprop ='')\n",
    "    data_key_all_days= pytrends.interest_over_time()\n",
    "\n",
    "\n",
    "    globals()[df_name+'_all'] = pd.DataFrame()   \n",
    "\n",
    "    for day in time_ranges:   \n",
    "        pytrends = TrendReq(hl='en-US', tz=360)\n",
    "        pytrends.build_payload([key], timeframe=day, geo= 'US', gprop ='')\n",
    "        df_day = pytrends.interest_over_time()\n",
    "\n",
    "        #Calculation final value = daily value*(monthly value/100)\n",
    "        Monthly_rate_percent = data_key_all_days.loc[day[0:9],key]/100\n",
    "        df_day = df_day*Monthly_rate_percent\n",
    "        globals()[df_name+'_all'] = globals()[df_name+'_all'].append(df_day)\n",
    "    del globals()[df_name+'_all']['isPartial']\n",
    "    \n",
    "    globals()[df_name+'_all'].to_csv(df_name+\".csv\", encoding = \"utf-8\")"
   ]
  },
  {
   "cell_type": "markdown",
   "metadata": {},
   "source": [
    "# The Second Run"
   ]
  },
  {
   "cell_type": "code",
   "execution_count": null,
   "metadata": {},
   "outputs": [],
   "source": [
    "keywords = [['Cisco','Cisco_Systems'],\n",
    "['NVIDIA','NVIDIA'],\n",
    "['Exxon','Exxon_Mobil']]\n",
    "\n",
    "# monthly daya for past 100 years\n",
    "for key,df_name in keywords:\n",
    "    pytrends = TrendReq(hl='en-US', tz=360)\n",
    "    pytrends.build_payload([key], timeframe='2011-1-1 2020-4-30', geo= 'US', gprop ='')\n",
    "    data_key_all_days= pytrends.interest_over_time()\n",
    "\n",
    "\n",
    "    globals()[df_name+'_all'] = pd.DataFrame()   \n",
    "\n",
    "    for day in time_ranges:   \n",
    "        pytrends = TrendReq(hl='en-US', tz=360)\n",
    "        pytrends.build_payload([key], timeframe=day, geo= 'US', gprop ='')\n",
    "        df_day = pytrends.interest_over_time()\n",
    "\n",
    "        #Calculation final value = daily value*(monthly value/100)\n",
    "        Monthly_rate_percent = data_key_all_days.loc[day[0:9],key]/100\n",
    "        df_day = df_day*Monthly_rate_percent\n",
    "        globals()[df_name+'_all'] = globals()[df_name+'_all'].append(df_day)\n",
    "    del globals()[df_name+'_all']['isPartial']\n",
    "    \n",
    "    globals()[df_name+'_all'].to_csv(df_name+\".csv\", encoding = \"utf-8\")"
   ]
  },
  {
   "cell_type": "code",
   "execution_count": null,
   "metadata": {},
   "outputs": [],
   "source": []
  },
  {
   "cell_type": "markdown",
   "metadata": {},
   "source": [
    "# The Third Run"
   ]
  },
  {
   "cell_type": "code",
   "execution_count": null,
   "metadata": {},
   "outputs": [],
   "source": [
    "keywords = [['Abbott Laboratories','Abbott_Laboratories'],\n",
    "['Oracle','Oracle'],\n",
    "['Comcast','Comcast']]\n",
    "\n",
    "# monthly daya for past 100 years\n",
    "for key,df_name in keywords:\n",
    "    pytrends = TrendReq(hl='en-US', tz=360)\n",
    "    pytrends.build_payload([key], timeframe='2011-1-1 2020-4-30', geo= 'US', gprop ='')\n",
    "    data_key_all_days= pytrends.interest_over_time()\n",
    "\n",
    "\n",
    "    globals()[df_name+'_all'] = pd.DataFrame()   \n",
    "\n",
    "    for day in time_ranges:   \n",
    "        pytrends = TrendReq(hl='en-US', tz=360)\n",
    "        pytrends.build_payload([key], timeframe=day, geo= 'US', gprop ='')\n",
    "        df_day = pytrends.interest_over_time()\n",
    "\n",
    "        #Calculation final value = daily value*(monthly value/100)\n",
    "        Monthly_rate_percent = data_key_all_days.loc[day[0:9],key]/100\n",
    "        df_day = df_day*Monthly_rate_percent\n",
    "        globals()[df_name+'_all'] = globals()[df_name+'_all'].append(df_day)\n",
    "    del globals()[df_name+'_all']['isPartial']\n",
    "    \n",
    "    globals()[df_name+'_all'].to_csv(df_name+\".csv\", encoding = \"utf-8\")"
   ]
  },
  {
   "cell_type": "code",
   "execution_count": null,
   "metadata": {},
   "outputs": [],
   "source": []
  },
  {
   "cell_type": "markdown",
   "metadata": {},
   "source": [
    "# The First Run"
   ]
  },
  {
   "cell_type": "code",
   "execution_count": null,
   "metadata": {},
   "outputs": [],
   "source": [
    "keywords = [['Adobe','Adobe'],\n",
    "['Chevron','Chevron'],\n",
    "['Eli Lilly','Eli_Lilly']]\n",
    "\n",
    "# monthly daya for past 100 years\n",
    "for key,df_name in keywords:\n",
    "    pytrends = TrendReq(hl='en-US', tz=360)\n",
    "    pytrends.build_payload([key], timeframe='2011-1-1 2020-4-30', geo= 'US', gprop ='')\n",
    "    data_key_all_days= pytrends.interest_over_time()\n",
    "\n",
    "\n",
    "    globals()[df_name+'_all'] = pd.DataFrame()   \n",
    "\n",
    "    for day in time_ranges:   \n",
    "        pytrends = TrendReq(hl='en-US', tz=360)\n",
    "        pytrends.build_payload([key], timeframe=day, geo= 'US', gprop ='')\n",
    "        df_day = pytrends.interest_over_time()\n",
    "\n",
    "        #Calculation final value = daily value*(monthly value/100)\n",
    "        Monthly_rate_percent = data_key_all_days.loc[day[0:9],key]/100\n",
    "        df_day = df_day*Monthly_rate_percent\n",
    "        globals()[df_name+'_all'] = globals()[df_name+'_all'].append(df_day)\n",
    "    del globals()[df_name+'_all']['isPartial']\n",
    "    \n",
    "    globals()[df_name+'_all'].to_csv(df_name+\".csv\", encoding = \"utf-8\")"
   ]
  },
  {
   "cell_type": "markdown",
   "metadata": {},
   "source": [
    "# The Second Run"
   ]
  },
  {
   "cell_type": "code",
   "execution_count": null,
   "metadata": {},
   "outputs": [],
   "source": [
    "keywords = [['Pandemic','Pandemic'],\n",
    "['presidential election','presidential_election'], \n",
    "['Lockdown','Lockdown']]\n",
    "\n",
    "# monthly daya for past 100 years\n",
    "for key,df_name in keywords:\n",
    "    pytrends = TrendReq(hl='en-US', tz=360)\n",
    "    pytrends.build_payload([key], timeframe='2011-1-1 2020-4-30', geo= 'US', gprop ='')\n",
    "    data_key_all_days= pytrends.interest_over_time()\n",
    "\n",
    "\n",
    "    globals()[df_name+'_all'] = pd.DataFrame()   \n",
    "\n",
    "    for day in time_ranges:   \n",
    "        pytrends = TrendReq(hl='en-US', tz=360)\n",
    "        pytrends.build_payload([key], timeframe=day, geo= 'US', gprop ='')\n",
    "        df_day = pytrends.interest_over_time()\n",
    "\n",
    "        #Calculation final value = daily value*(monthly value/100)\n",
    "        Monthly_rate_percent = data_key_all_days.loc[day[0:9],key]/100\n",
    "        df_day = df_day*Monthly_rate_percent\n",
    "        globals()[df_name+'_all'] = globals()[df_name+'_all'].append(df_day)\n",
    "    del globals()[df_name+'_all']['isPartial']\n",
    "    \n",
    "    globals()[df_name+'_all'].to_csv(df_name+\".csv\", encoding = \"utf-8\")"
   ]
  },
  {
   "cell_type": "code",
   "execution_count": null,
   "metadata": {},
   "outputs": [],
   "source": []
  },
  {
   "cell_type": "markdown",
   "metadata": {},
   "source": [
    "# The Third Run"
   ]
  },
  {
   "cell_type": "code",
   "execution_count": null,
   "metadata": {},
   "outputs": [],
   "source": [
    "keywords = [['Covid-19','Covid_19']]\n",
    "\n",
    "# monthly daya for past 100 years\n",
    "for key,df_name in keywords:\n",
    "    pytrends = TrendReq(hl='en-US', tz=360)\n",
    "    pytrends.build_payload([key], timeframe='2011-1-1 2020-4-30', geo= 'US', gprop ='')\n",
    "    data_key_all_days= pytrends.interest_over_time()\n",
    "\n",
    "\n",
    "    globals()[df_name+'_all'] = pd.DataFrame()   \n",
    "\n",
    "    for day in time_ranges:   \n",
    "        pytrends = TrendReq(hl='en-US', tz=360)\n",
    "        pytrends.build_payload([key], timeframe=day, geo= 'US', gprop ='')\n",
    "        df_day = pytrends.interest_over_time()\n",
    "\n",
    "        #Calculation final value = daily value*(monthly value/100)\n",
    "        Monthly_rate_percent = data_key_all_days.loc[day[0:9],key]/100\n",
    "        df_day = df_day*Monthly_rate_percent\n",
    "        globals()[df_name+'_all'] = globals()[df_name+'_all'].append(df_day)\n",
    "    del globals()[df_name+'_all']['isPartial']\n",
    "    \n",
    "    globals()[df_name+'_all'].to_csv(df_name+\".csv\", encoding = \"utf-8\")"
   ]
  }
 ],
 "metadata": {
  "kernelspec": {
   "display_name": "Python 3",
   "language": "python",
   "name": "python3"
  },
  "language_info": {
   "codemirror_mode": {
    "name": "ipython",
    "version": 3
   },
   "file_extension": ".py",
   "mimetype": "text/x-python",
   "name": "python",
   "nbconvert_exporter": "python",
   "pygments_lexer": "ipython3",
   "version": "3.7.6"
  }
 },
 "nbformat": 4,
 "nbformat_minor": 4
}
