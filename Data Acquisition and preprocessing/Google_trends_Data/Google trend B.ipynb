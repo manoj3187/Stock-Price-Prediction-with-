{
 "cells": [
  {
   "cell_type": "code",
   "execution_count": null,
   "metadata": {},
   "outputs": [],
   "source": [
    "! pip install pytrends"
   ]
  },
  {
   "cell_type": "code",
   "execution_count": null,
   "metadata": {},
   "outputs": [],
   "source": [
    "! pip install --upgrade --user git+https://github.com/GeneralMills/pytrends"
   ]
  },
  {
   "cell_type": "code",
   "execution_count": null,
   "metadata": {},
   "outputs": [],
   "source": [
    "from pytrends.request import TrendReq\n",
    "import pandas as pd\n",
    "from sklearn import preprocessing\n",
    "import matplotlib.pyplot as plt\n",
    "import csv\n",
    "import calendar"
   ]
  },
  {
   "cell_type": "code",
   "execution_count": null,
   "metadata": {},
   "outputs": [],
   "source": [
    "time_ranges = []\n",
    "for y in range(2011,2021):\n",
    "    for m in range(1,13):\n",
    "        monthrange = calendar.monthrange(y, m)\n",
    "        start_day = \"%d-%d-%d\" %(y,m,1)\n",
    "        end_day = \"%d-%d-%d\" %(y,m,monthrange[1])\n",
    "        s_e_day = start_day +\" \" + end_day\n",
    "        time_ranges.append(s_e_day)\n",
    "\n",
    "\n",
    "print(time_ranges)"
   ]
  },
  {
   "cell_type": "code",
   "execution_count": null,
   "metadata": {},
   "outputs": [],
   "source": [
    "time_ranges = time_ranges[0:-8]"
   ]
  },
  {
   "cell_type": "markdown",
   "metadata": {},
   "source": [
    "# The First Run"
   ]
  },
  {
   "cell_type": "code",
   "execution_count": null,
   "metadata": {},
   "outputs": [],
   "source": [
    "keywords = [['CocaCola','CocaCola'],\n",
    "['Bank of America','Bank_of_America'],\n",
    "['Netflix','Netflix']]\n",
    "\n",
    "# monthly daya for past 100 years\n",
    "for key,df_name in keywords:\n",
    "    pytrends = TrendReq(hl='en-US', tz=360)\n",
    "    pytrends.build_payload([key], timeframe='2011-1-1 2020-4-30', geo= 'US', gprop ='')\n",
    "    data_key_all_days= pytrends.interest_over_time()\n",
    "\n",
    "\n",
    "    globals()[df_name+'_all'] = pd.DataFrame()   \n",
    "\n",
    "    for day in time_ranges:   \n",
    "        pytrends = TrendReq(hl='en-US', tz=360)\n",
    "        pytrends.build_payload([key], timeframe=day, geo= 'US', gprop ='')\n",
    "        df_day = pytrends.interest_over_time()\n",
    "\n",
    "        #Calculation final value = daily value*(monthly value/100)\n",
    "        Monthly_rate_percent = data_key_all_days.loc[day[0:9],key]/100\n",
    "        df_day = df_day*Monthly_rate_percent\n",
    "        globals()[df_name+'_all'] = globals()[df_name+'_all'].append(df_day)\n",
    "    del globals()[df_name+'_all']['isPartial']\n",
    "    \n",
    "    globals()[df_name+'_all'].to_csv(df_name+\".csv\", encoding = \"utf-8\")"
   ]
  },
  {
   "cell_type": "markdown",
   "metadata": {},
   "source": [
    "# The Second Run"
   ]
  },
  {
   "cell_type": "code",
   "execution_count": null,
   "metadata": {},
   "outputs": [],
   "source": [
    "keywords = [['Pepsi','Pepsi'],\n",
    "['Disney','The_Walt_Disney'],\n",
    "['Cisco','Cisco_Systems']]\n",
    "\n",
    "# monthly daya for past 100 years\n",
    "for key,df_name in keywords:\n",
    "    pytrends = TrendReq(hl='en-US', tz=360)\n",
    "    pytrends.build_payload([key], timeframe='2011-1-1 2020-4-30', geo= 'US', gprop ='')\n",
    "    data_key_all_days= pytrends.interest_over_time()\n",
    "\n",
    "\n",
    "    globals()[df_name+'_all'] = pd.DataFrame()   \n",
    "\n",
    "    for day in time_ranges:   \n",
    "        pytrends = TrendReq(hl='en-US', tz=360)\n",
    "        pytrends.build_payload([key], timeframe=day, geo= 'US', gprop ='')\n",
    "        df_day = pytrends.interest_over_time()\n",
    "\n",
    "        #Calculation final value = daily value*(monthly value/100)\n",
    "        Monthly_rate_percent = data_key_all_days.loc[day[0:9],key]/100\n",
    "        df_day = df_day*Monthly_rate_percent\n",
    "        globals()[df_name+'_all'] = globals()[df_name+'_all'].append(df_day)\n",
    "    del globals()[df_name+'_all']['isPartial']\n",
    "    \n",
    "    globals()[df_name+'_all'].to_csv(df_name+\".csv\", encoding = \"utf-8\")"
   ]
  },
  {
   "cell_type": "code",
   "execution_count": null,
   "metadata": {},
   "outputs": [],
   "source": []
  },
  {
   "cell_type": "markdown",
   "metadata": {},
   "source": [
    "# The Third Run"
   ]
  },
  {
   "cell_type": "code",
   "execution_count": null,
   "metadata": {},
   "outputs": [],
   "source": [
    "keywords = [['NVIDIA','NVIDIA'],\n",
    "['Exxon','Exxon_Mobil'],\n",
    "['Abbott Laboratories','Abbott_Laboratories']]\n",
    "\n",
    "# monthly daya for past 100 years\n",
    "for key,df_name in keywords:\n",
    "    pytrends = TrendReq(hl='en-US', tz=360)\n",
    "    pytrends.build_payload([key], timeframe='2011-1-1 2020-4-30', geo= 'US', gprop ='')\n",
    "    data_key_all_days= pytrends.interest_over_time()\n",
    "\n",
    "\n",
    "    globals()[df_name+'_all'] = pd.DataFrame()   \n",
    "\n",
    "    for day in time_ranges:   \n",
    "        pytrends = TrendReq(hl='en-US', tz=360)\n",
    "        pytrends.build_payload([key], timeframe=day, geo= 'US', gprop ='')\n",
    "        df_day = pytrends.interest_over_time()\n",
    "\n",
    "        #Calculation final value = daily value*(monthly value/100)\n",
    "        Monthly_rate_percent = data_key_all_days.loc[day[0:9],key]/100\n",
    "        df_day = df_day*Monthly_rate_percent\n",
    "        globals()[df_name+'_all'] = globals()[df_name+'_all'].append(df_day)\n",
    "    del globals()[df_name+'_all']['isPartial']\n",
    "    \n",
    "    globals()[df_name+'_all'].to_csv(df_name+\".csv\", encoding = \"utf-8\")"
   ]
  },
  {
   "cell_type": "code",
   "execution_count": null,
   "metadata": {},
   "outputs": [],
   "source": []
  }
 ],
 "metadata": {
  "kernelspec": {
   "display_name": "Python 3",
   "language": "python",
   "name": "python3"
  },
  "language_info": {
   "codemirror_mode": {
    "name": "ipython",
    "version": 3
   },
   "file_extension": ".py",
   "mimetype": "text/x-python",
   "name": "python",
   "nbconvert_exporter": "python",
   "pygments_lexer": "ipython3",
   "version": "3.7.6"
  }
 },
 "nbformat": 4,
 "nbformat_minor": 4
}
